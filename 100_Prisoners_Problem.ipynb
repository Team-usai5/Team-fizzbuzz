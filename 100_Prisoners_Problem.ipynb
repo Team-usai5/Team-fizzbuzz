{
 "cells": [
  {
   "cell_type": "code",
   "execution_count": 96,
   "id": "8f73fb4d-78f2-4db1-b186-7eeb47156563",
   "metadata": {},
   "outputs": [
    {
     "name": "stdin",
     "output_type": "stream",
     "text": [
      "죄수의 숫자를 입력해 주세요 5\n",
      "시도 횟수를 입력해 주세요 2\n"
     ]
    }
   ],
   "source": [
    "import random\n",
    "\n",
    "n_prisoner = int(input(\"죄수의 숫자를 입력해 주세요\"))    # 죄수의 수\n",
    "prisoners = list(range(1,n_prisoner+1))\t\t# 죄수의 번호\n",
    "boxes = random.sample(range(1,n_prisoner+1),n_prisoner) # 숫자가 들어갈 box 생성\n",
    "attempt = int(input(\"시도 횟수를 입력해 주세요\"))\t\t# 시도 횟수\n"
   ]
  },
  {
   "cell_type": "code",
   "execution_count": 98,
   "id": "42761f5e-f31a-4b54-828b-3cc8f04685ef",
   "metadata": {},
   "outputs": [
    {
     "name": "stdout",
     "output_type": "stream",
     "text": [
      "2 0 1\n",
      "3 1 2\n",
      "2\n"
     ]
    }
   ],
   "source": [
    "success = 0\t\t\t# 성공 횟수\n",
    "for i in range(0,n_prisoner):   # 모든 죄수가 박스를 열때\n",
    "    for j in range(0,attempt):\n",
    "        if boxes[j] == prisoners[i]:\n",
    "            print(boxes[j],j,i)\n",
    "            success += 1\n",
    "            break\n",
    "        else: continue\n",
    "\n",
    "print(success)"
   ]
  }
 ],
 "metadata": {
  "kernelspec": {
   "display_name": "Python [conda env:Fastcampus]",
   "language": "python",
   "name": "conda-env-Fastcampus-py"
  },
  "language_info": {
   "codemirror_mode": {
    "name": "ipython",
    "version": 3
   },
   "file_extension": ".py",
   "mimetype": "text/x-python",
   "name": "python",
   "nbconvert_exporter": "python",
   "pygments_lexer": "ipython3",
   "version": "3.11.9"
  }
 },
 "nbformat": 4,
 "nbformat_minor": 5
}
